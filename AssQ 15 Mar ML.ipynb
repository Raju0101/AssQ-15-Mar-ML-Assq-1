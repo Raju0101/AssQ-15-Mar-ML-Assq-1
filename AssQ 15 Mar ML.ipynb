{
 "cells": [
  {
   "cell_type": "markdown",
   "id": "7f57ec0c-ade7-41eb-b450-51f552b8ec52",
   "metadata": {},
   "source": [
    "# Assignment 15 March ML-1 assq"
   ]
  },
  {
   "cell_type": "code",
   "execution_count": null,
   "id": "348d8c9f-c5cb-4ee8-8d24-cfc277b86bb2",
   "metadata": {},
   "outputs": [],
   "source": [
    "# Q1 . Explain the folling with example--\n",
    "# a) Artificial Inteligence.\n",
    "# b) Machin Learning.\n",
    "# c) Deep Learning."
   ]
  },
  {
   "cell_type": "code",
   "execution_count": null,
   "id": "645e8e2c-ee1a-4721-a56a-fef28ad780d3",
   "metadata": {},
   "outputs": [],
   "source": [
    "# a) Artificial Inteligence- \n",
    "# At its simplest form, artificial intelligence is a field, which combines computer science and \n",
    "# robust datasets, to enable problem-solving. It also encompasses sub-fields of machine learning\n",
    "# and deep learning, which are frequently mentioned in conjunction with artificial intelligence.\n",
    "\n",
    "#Artificial intelligence is the simulation of human intelligence processes by machines, especially\n",
    "# computer systems. Specific applications of AI include expert systems, natural language processing, \n",
    "# speech recognition and machine vision.\n",
    "# Example-  Driver less car, Robotics\n",
    "\n",
    "# Machin Learning.- Machine learning is a branch of artificial intelligence (AI) and \n",
    "# computer science which focuses on the use of data and algorithms to imitate the way that humans learn,\n",
    "# gradually improving its accuracy.\n",
    "# Example- Stats,Liner Algebra,Calculus, Problity, Machine learning algorithms use historical data as input to predict new output values.\n",
    "\n",
    "#  Deep Learning.- Deep learning is a subset of machine learning, which is essentially a neural network\n",
    "# with three or more layers. These neural networks attempt to simulate the behavior of the human \n",
    "# brain—albeit far from matching its ability—allowing it to “learn” from large amounts of data.\n",
    "# Deep learning is a machine learning technique that teaches computers to do what comes naturally to\n",
    "# humans: learn by example. Deep learning is a key technology enabling them \n",
    "# to recognize a stop sign, or to distinguish a pedestrian from a lamppost.\n",
    "# Example- Image Recognization, chartbots,, Object detion."
   ]
  },
  {
   "cell_type": "code",
   "execution_count": null,
   "id": "11ad953a-e1e5-415e-89ac-27acfb58cfe4",
   "metadata": {},
   "outputs": [],
   "source": []
  },
  {
   "cell_type": "code",
   "execution_count": 1,
   "id": "aa4724a9-1ee8-40e5-9b19-5d263ae34a2f",
   "metadata": {},
   "outputs": [],
   "source": [
    "# Q2- What is superwised Learning? List some example of  superwised Learning."
   ]
  },
  {
   "cell_type": "code",
   "execution_count": null,
   "id": "fa169b5a-e273-4167-b82f-35e6252032d6",
   "metadata": {},
   "outputs": [],
   "source": [
    "# Supervised learning, also known as supervised machine learning, is a subcategory of machine\n",
    "# learning and artificial intelligence. It is defined by its use of labeled datasets to train \n",
    "# algorithms that to classify data or predict outcomes accurately.\n",
    "# Classification is used when the output variable is categorical i.e. with 2 or more classes. \n",
    "# For example, yes or no, male or female, true or false, etc. In order to predict whether a mail\n",
    "# is spam or not, we need to first teach the machine what a spam mail is."
   ]
  },
  {
   "cell_type": "code",
   "execution_count": null,
   "id": "22afefbc-9d69-4062-a0a9-69b790f8c469",
   "metadata": {},
   "outputs": [],
   "source": []
  },
  {
   "cell_type": "code",
   "execution_count": null,
   "id": "1edde28c-a797-4b45-8318-25426f7af7d1",
   "metadata": {},
   "outputs": [],
   "source": [
    "# Q3- What is unsuperwised learnin? List some examples of unsuperwised learnin."
   ]
  },
  {
   "cell_type": "code",
   "execution_count": 2,
   "id": "99e63879-0d32-4710-9bdc-21c25b8a8a80",
   "metadata": {},
   "outputs": [],
   "source": [
    "# Unsupervised learning, also known as unsupervised machine learning, uses machine \n",
    "# learning algorithms to analyze and cluster unlabeled datasets. \n",
    "# These algorithms discover hidden patterns or data groupings without the need for human intervention.\n",
    "# Example- The examples are dimension reduction and clustering., Custom Segmentaion"
   ]
  },
  {
   "cell_type": "code",
   "execution_count": null,
   "id": "0fdbd35a-52a7-4630-ada0-56d970839f01",
   "metadata": {},
   "outputs": [],
   "source": []
  },
  {
   "cell_type": "code",
   "execution_count": 3,
   "id": "0fbedc72-09ba-4a26-a600-04b30cad6f91",
   "metadata": {},
   "outputs": [],
   "source": [
    "# Q4- What is the difference betbeen AI, ML, DL, and DS?"
   ]
  },
  {
   "cell_type": "code",
   "execution_count": null,
   "id": "3cd52001-fa45-43b3-ba9a-0078831997ca",
   "metadata": {},
   "outputs": [],
   "source": [
    "# AI is the super class, ML is the sub set of AI, DL is the subclass of ML, \n",
    "# DS is the mixture/comination of all three(AI,ML,DL).\n",
    "\n",
    "# Data Science involves analysis, visualization, and prediction. It uses different\n",
    "# statistical techniques, while AI and Machine Learning implements models to predict future\n",
    "# events and makes use of algorithms."
   ]
  },
  {
   "cell_type": "code",
   "execution_count": null,
   "id": "934a86bc-a36a-4c40-9b87-c1d7d0d20abd",
   "metadata": {},
   "outputs": [],
   "source": []
  },
  {
   "cell_type": "code",
   "execution_count": 4,
   "id": "f02c48e2-3e33-499e-a175-6e782819536e",
   "metadata": {},
   "outputs": [],
   "source": [
    "# Q5- What are the main difference between superwised, unsuperwised, and semi-superwised Learning?"
   ]
  },
  {
   "cell_type": "code",
   "execution_count": null,
   "id": "231352ea-39bc-45ce-a406-d058b269d854",
   "metadata": {},
   "outputs": [],
   "source": [
    "# Supervised Learning: Train a model on labeled data and then use that .\n",
    "# Unsupervised Learning: Train a model on unlabeled data and then use that.\n",
    "# Semi-supervised Learning: Train a model on both Labeled & unlabeled data and then use that.\n",
    "\n",
    "\n",
    "# Within the field of machine learning, there are three main types of tasks: supervised,\n",
    "# semi-supervised, and unsupervised. The main difference between these types is the level \n",
    "# of availability of ground truth data, which is prior knowledge of what the output of the model should\n",
    "# be for a given input."
   ]
  },
  {
   "cell_type": "code",
   "execution_count": null,
   "id": "3442d30f-db16-43a9-991c-c7948233127b",
   "metadata": {},
   "outputs": [],
   "source": []
  },
  {
   "cell_type": "code",
   "execution_count": 5,
   "id": "5963d165-5349-4545-8f85-c9ea2e29c782",
   "metadata": {},
   "outputs": [],
   "source": [
    "# Q6- What is train, test and validation split? Explain the importance of each term."
   ]
  },
  {
   "cell_type": "code",
   "execution_count": 6,
   "id": "85c6291e-7f94-4fae-b02f-e72c1b9a3f89",
   "metadata": {},
   "outputs": [],
   "source": [
    "# Train- Training data is the set of the data on which the actual training takes place.\n",
    "# Validation split- It helps to improve the model performance by fine-tuning the model after each epoch.\n",
    "# Test - The test set informs us about the final accuracy of the model after completing the training phase.\n",
    "\n",
    "# A training dataset is an initial dataset that teaches the ML models to identify \n",
    "# desired patterns or perform a particular task. \n",
    "\n",
    "# In machine learning, model testing is referred to as the process where the performance of a \n",
    "# fully trained model is evaluated on a testing set.\n",
    "\n",
    "# The Split Validation operator  allows training on one data set and testing on another explicit testing data set."
   ]
  },
  {
   "cell_type": "code",
   "execution_count": null,
   "id": "32bbe6f0-22fe-4965-84e5-eb43ccb9e635",
   "metadata": {},
   "outputs": [],
   "source": []
  },
  {
   "cell_type": "code",
   "execution_count": 7,
   "id": "fea2a1c9-6e3d-48dd-b8c1-ea494bae2f0e",
   "metadata": {},
   "outputs": [],
   "source": [
    "# Q7- How can unsuperwised Learning be used in anomaly detection?"
   ]
  },
  {
   "cell_type": "code",
   "execution_count": 8,
   "id": "35c2973a-a943-42ef-9d67-bd38c6686c13",
   "metadata": {},
   "outputs": [],
   "source": [
    "# The objective of Unsupervised Anomaly Detection is to detect previously unseen rare objects or \n",
    "# events without any prior knowledge about these. The only information available is that\n",
    "# the percentage of anomalies in the dataset is small, usually less than 1%.\n",
    "\n",
    "# Anomaly detection techniques of unsupervised nature assume that normal data points\n",
    "# occur considerably more frequently than anomalous data points."
   ]
  },
  {
   "cell_type": "code",
   "execution_count": null,
   "id": "0b1bd9ed-6dd9-4433-977b-6a2b1ffc508a",
   "metadata": {},
   "outputs": [],
   "source": []
  },
  {
   "cell_type": "code",
   "execution_count": 9,
   "id": "f9bb77d4-41bd-4d7b-8dab-89e0aad4cd10",
   "metadata": {},
   "outputs": [],
   "source": [
    "# Q8- List down some commonly used superwised learning algorithms and unsuperwised learning algorithms."
   ]
  },
  {
   "cell_type": "code",
   "execution_count": 10,
   "id": "ff7d82a1-14bc-4d06-b725-425932658526",
   "metadata": {},
   "outputs": [],
   "source": [
    "# The most commonly used Supervised Learning algorithms are decision tree, logistic regression, \n",
    "# linear regression, support vector machine. \n",
    "# The most commonly used Unsupervised Learning algorithms are k-means clustering, \n",
    "# hierarchical clustering, and apriori algorithm."
   ]
  },
  {
   "cell_type": "code",
   "execution_count": 11,
   "id": "2e2003fe-da31-404d-b58b-776e2d60d005",
   "metadata": {},
   "outputs": [
    {
     "data": {
      "text/plain": [
       "10"
      ]
     },
     "execution_count": 11,
     "metadata": {},
     "output_type": "execute_result"
    }
   ],
   "source": [
    "a=10\n",
    "a\n"
   ]
  },
  {
   "cell_type": "code",
   "execution_count": null,
   "id": "928083ae-d619-429d-a785-75f35b872c9f",
   "metadata": {},
   "outputs": [],
   "source": []
  }
 ],
 "metadata": {
  "kernelspec": {
   "display_name": "Python 3 (ipykernel)",
   "language": "python",
   "name": "python3"
  },
  "language_info": {
   "codemirror_mode": {
    "name": "ipython",
    "version": 3
   },
   "file_extension": ".py",
   "mimetype": "text/x-python",
   "name": "python",
   "nbconvert_exporter": "python",
   "pygments_lexer": "ipython3",
   "version": "3.10.6"
  }
 },
 "nbformat": 4,
 "nbformat_minor": 5
}
